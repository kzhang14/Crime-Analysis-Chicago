{
 "cells": [
  {
   "cell_type": "markdown",
   "metadata": {},
   "source": [
    "# See if in (non)-linear relationship, X--> Z-->Y, X<--Z-->Y, X-->Z<--Y, negative relationship matters"
   ]
  },
  {
   "cell_type": "code",
   "execution_count": 3,
   "metadata": {},
   "outputs": [
    {
     "name": "stdout",
     "output_type": "stream",
     "text": [
      "X mean is 0.5075818505749735\n",
      "X std is  0.2876222927391753\n"
     ]
    },
    {
     "ename": "NameError",
     "evalue": "name 'Z' is not defined",
     "output_type": "error",
     "traceback": [
      "\u001b[0;31m---------------------------------------------------------------------------\u001b[0m",
      "\u001b[0;31mNameError\u001b[0m                                 Traceback (most recent call last)",
      "\u001b[0;32m<ipython-input-3-0b200c844955>\u001b[0m in \u001b[0;36m<module>\u001b[0;34m\u001b[0m\n\u001b[1;32m     26\u001b[0m \u001b[0;31m# Z = cXZ * np.log(np.abs(X)**2+1) + cXZ * noise1\u001b[0m\u001b[0;34m\u001b[0m\u001b[0;34m\u001b[0m\u001b[0;34m\u001b[0m\u001b[0m\n\u001b[1;32m     27\u001b[0m \u001b[0;31m# Z = cXZ * X**3 + np.sqrt(X) + cXZ * noise1\u001b[0m\u001b[0;34m\u001b[0m\u001b[0;34m\u001b[0m\u001b[0;34m\u001b[0m\u001b[0m\n\u001b[0;32m---> 28\u001b[0;31m \u001b[0mX\u001b[0m \u001b[0;34m=\u001b[0m \u001b[0mcXZ\u001b[0m \u001b[0;34m*\u001b[0m \u001b[0;34m(\u001b[0m\u001b[0mZ\u001b[0m\u001b[0;34m**\u001b[0m\u001b[0;36m2\u001b[0m \u001b[0;34m+\u001b[0m \u001b[0mnp\u001b[0m\u001b[0;34m.\u001b[0m\u001b[0mlog\u001b[0m\u001b[0;34m(\u001b[0m\u001b[0mZ\u001b[0m\u001b[0;34m+\u001b[0m\u001b[0;36m3\u001b[0m\u001b[0;34m)\u001b[0m\u001b[0;34m**\u001b[0m\u001b[0;36m2\u001b[0m \u001b[0;34m+\u001b[0m \u001b[0;34m(\u001b[0m\u001b[0;36m1\u001b[0m\u001b[0;34m+\u001b[0m\u001b[0mZ\u001b[0m\u001b[0;34m)\u001b[0m\u001b[0;34m/\u001b[0m\u001b[0;34m(\u001b[0m\u001b[0;36m2\u001b[0m\u001b[0;34m-\u001b[0m\u001b[0mZ\u001b[0m\u001b[0;34m**\u001b[0m\u001b[0;36m2\u001b[0m\u001b[0;34m)\u001b[0m\u001b[0;34m)\u001b[0m \u001b[0;34m+\u001b[0m \u001b[0;36m5\u001b[0m \u001b[0;34m*\u001b[0m \u001b[0mcXZ\u001b[0m \u001b[0;34m*\u001b[0m \u001b[0mnoise1\u001b[0m\u001b[0;34m\u001b[0m\u001b[0;34m\u001b[0m\u001b[0m\n\u001b[0m\u001b[1;32m     29\u001b[0m \u001b[0;34m\u001b[0m\u001b[0m\n\u001b[1;32m     30\u001b[0m \u001b[0;34m\u001b[0m\u001b[0m\n",
      "\u001b[0;31mNameError\u001b[0m: name 'Z' is not defined"
     ]
    }
   ],
   "source": [
    "import numpy as np\n",
    "\n",
    "\n",
    "# ============================================\n",
    "'''\n",
    "X --> Z ---> Y or\n",
    "X <-- Z ---> Y or\n",
    "X --> Z <--- Y\n",
    "'''\n",
    "N = 10000\n",
    "X = np.random.random(size = N)\n",
    "# Y = np.random.random(size = N)\n",
    "# Z = np.random.random(size = N)\n",
    "\n",
    "noise1 = np.random.random(size=N)\n",
    "\n",
    "noise2 = np.random.random(size=N)\n",
    "\n",
    "print(\"X mean is\", np.mean(X))\n",
    "print(\"X std is \", np.std(X))\n",
    "\n",
    "\n",
    "\n",
    "cXZ = 0.3\n",
    "# Z = cXZ * X + cXZ * noise1\n",
    "# Z = cXZ * np.log(np.abs(X)**2+1) + cXZ * noise1\n",
    "# Z = cXZ * X**3 + np.sqrt(X) + cXZ * noise1\n",
    "X = cXZ * (Z**2 + np.log(Z+3)**2 + (1+Z)/(2-Z**2)) + 5 * cXZ * noise1\n",
    "\n",
    "\n",
    "\n",
    "cYZ = -0.5\n",
    "# Y = cYZ * Z + cYZ * noise2\n",
    "# Y = cYZ * Z**3 + cYZ * noise2\n",
    "Y = cYZ * Z**2 + cYZ * np.log(np.abs(Z)) + cYZ * noise2\n",
    "#Z = cXZ * (X**2 + np.log(X+3)**2 + (1+X)/(2-X**2)) + cYZ * Y**3 + (cXZ +cYZ)* noise1\n",
    "\n",
    "print(\"===================== X --> Z --> Y=======================\")\n",
    "print(\"Correlation between X, Y is\", np.corrcoef(X, Y)[0, 1])\n",
    "print(\"Correlation between X, Z is\", np.corrcoef(X, Z)[0, 1])\n",
    "print(\"Correlation between Z, Y is\", np.corrcoef(Y, Z)[0, 1])\n",
    "print(\"Partial Correlation between X,Y|Z is\", \\\n",
    "      (np.corrcoef(X,Y)[0, 1] - np.corrcoef(X,Z)[0, 1] * np.corrcoef(Y,Z)[0, 1])/ \\\n",
    "      (np.sqrt(1-np.corrcoef(X,Z)[0, 1]**2)*np.sqrt(1-np.corrcoef(Y,Z)[0, 1]**2)))\n",
    "\n",
    "print(\"EX is \", np.mean(X))\n",
    "print(\"EZ is \", np.mean(Z))\n",
    "print(\"EXZ is\", np.mean(X*Z))\n",
    "print(\"SX is\", np.var(X))\n",
    "print(\"SZ is\", np.var(Z))\n",
    "print(\"SXZ is\", np.var(X*Z))\n",
    "print(\"pXZ is\", (np.mean(X*Z) - np.mean(X)*np.mean(Z))/(np.var(X)*np.std(Z)))\n",
    "print(\"Numrator: pXY = \", np.corrcoef(X, Y)[0, 1])\n",
    "print(\"Numrator: pXZ = \", np.corrcoef(X, Z)[0, 1])\n",
    "print(\"Numrator: pYZ = \", np.corrcoef(Y, Z)[0, 1])\n",
    "print(\"Demominator: sqrt(1-pXZ^2) = \", np.sqrt(1-np.corrcoef(X, Z)[0, 1]**2))\n",
    "print(\"Demominator: sqrt(1-pYZ^2) = \", np.sqrt(1-np.corrcoef(Y, Z)[0, 1]**2))\n",
    "\n"
   ]
  },
  {
   "cell_type": "markdown",
   "metadata": {},
   "source": [
    "# See if in accidentally add other Z's, X and Y is still independent"
   ]
  },
  {
   "cell_type": "code",
   "execution_count": 5,
   "metadata": {},
   "outputs": [
    {
     "name": "stdout",
     "output_type": "stream",
     "text": [
      "(4, 4)\n",
      "Correlation between X, Y is 0.17720574738460795\n",
      "Partial Correlation between X,Y|Z01 is 0.17020176719710303\n",
      "Partial Correlation between X,Y|Z02 is 0.24754351701300753\n",
      "Partial Correlation between X,Y|Z01,Z02 is 0.2430955582531655\n",
      "pXY|Z01 is: 0.17020176719710303\n",
      "pXZ02|Z01 is: -0.858002484190064\n",
      "pYZ02|Z01 is: -0.05304484905681698\n",
      "pXY|Z01,Z02 is: 0.2430955582531656\n"
     ]
    }
   ],
   "source": [
    "import numpy as np\n",
    "from numpy.linalg import inv\n",
    "\n",
    "\n",
    "N = 10000\n",
    "\n",
    "def stdiz(x):\n",
    "    x = (x - np.mean(x))/np.std(x)\n",
    "    return x\n",
    "\n",
    "noise1 = np.random.random(size=N)\n",
    "noise2 = np.random.random(size=N)\n",
    "noise3 = np.random.random(size=N)\n",
    "noise4 = np.random.random(size=N)\n",
    "noise5 = np.random.random(size=N)\n",
    "noise1 = stdiz(noise1)\n",
    "noise2 = stdiz(noise2)\n",
    "noise3 = stdiz(noise3)\n",
    "noise4 = stdiz(noise4)\n",
    "noise5 = stdiz(noise5)\n",
    "\n",
    "\n",
    "#Z1 = np.random.random(size = N)\n",
    "#Z1 = stdiz(Z1)\n",
    "Z02 = np.random.random(size = N)\n",
    "Z02 = stdiz(Z02)\n",
    "#Z2 = np.random.random(size = N)\n",
    "#Z2 = stdiz(Z2)\n",
    "#Z3 = np.random.random(size = N)\n",
    "#Z3 = stdiz(Z3)\n",
    "\n",
    "X = 0.5* (Z02-1)**2 + 0.4 * noise1 # + 0.3 * (Z1**2 + np.log(np.abs(Z1)+3)**2)\n",
    "#X = 0.5* Z02 + 0.4 * noise1\n",
    "X = stdiz(X)\n",
    "Z01 = 0.6 * np.log(np.abs(X)**2+1) + 0.9 * noise2\n",
    "#Z01 = 0.6 * X + 0.9 * noise2\n",
    "Z01 = stdiz(Z01)\n",
    "Y = 0.7 * Z01**2 + 0.3 * np.log(np.abs(Z02))  + 0.5 * noise3 # + 0.3 * np.log(np.abs(Z2)+3)/(1+Z2)+ 0.8 * Z3**2\n",
    "#Y = 0.7 * Z01 + 0.3 * Z02  + 0.5 * noise3 # + 0.3 * np.log(np.abs(Z2)+3)/(1+Z2)+ 0.8 * Z3**2\n",
    "\n",
    "Y = stdiz(Y)\n",
    "# Z4 = 0.6 * (2*X**3 -X**2 + 3*X +1) + noise4\n",
    "#Z4 = stdiz(Z4)\n",
    "#Z5 = 0.2 * Y **2 + noise5\n",
    "#Z5 = stdiz(Z5)\n",
    "\n",
    "\n",
    "# data = np.c_[X,Y,Z01,Z02,Z1,Z2,Z3,Z4,Z5]\n",
    "data = np.c_[X,Y,Z01,Z02]\n",
    "\n",
    "corr_matrix = np.corrcoef(data.T)\n",
    "print(corr_matrix.shape)\n",
    "\n",
    "print(\"Correlation between X, Y is\", corr_matrix[0, 1])\n",
    "tmp1 = corr_matrix[:2, :2] - np.matmul(np.matmul(corr_matrix[[[0],[1]], [[2],[2]]], inv(corr_matrix[[[2]],[[2]]])), np.transpose(corr_matrix[[[0],[1]], [[2],[2]]]))\n",
    "print(\"Partial Correlation between X,Y|Z01 is\", tmp1[0,1]/np.sqrt(tmp1[0,0]*tmp1[1,1]))\n",
    "\n",
    "tmp2 = corr_matrix[:2, :2] - np.matmul(np.matmul(corr_matrix[[[0],[1]], [[3],[3]]], inv(corr_matrix[[[3]],[[3]]])),np.transpose(corr_matrix[[[0],[1]], [[3],[3]]]))\n",
    "print(\"Partial Correlation between X,Y|Z02 is\", tmp2[0,1]/np.sqrt(tmp2[0,0]*tmp2[1,1]))\n",
    "\n",
    "tmp3 = corr_matrix[:2, :2] - np.matmul(np.matmul(corr_matrix[[[0,0],[1,1]], [[2,3],[2,3]]], inv(corr_matrix[[[2,2],[3,3]],[[2,3],[2,3]]])),np.transpose(corr_matrix[[[0,0],[1,1]], [[2,3],[2,3]]]))\n",
    "print(\"Partial Correlation between X,Y|Z01,Z02 is\", tmp3[0,1]/np.sqrt(tmp3[0,0]*tmp3[1,1]))\n",
    "\n",
    "pXY_Z01 = (np.corrcoef(X,Y)[0, 1] - np.corrcoef(X,Z01)[0, 1] * np.corrcoef(Y,Z01)[0, 1])/ \\\n",
    "      (np.sqrt(1-np.corrcoef(X,Z01)[0, 1]**2)*np.sqrt(1-np.corrcoef(Y,Z01)[0, 1]**2))\n",
    "print(\"pXY|Z01 is:\", pXY_Z01)\n",
    "\n",
    "pXZ02_Z01 = (np.corrcoef(X,Z02)[0, 1] - np.corrcoef(X,Z01)[0, 1] * np.corrcoef(Z02,Z01)[0, 1])/ \\\n",
    "      (np.sqrt(1-np.corrcoef(X,Z01)[0, 1]**2)*np.sqrt(1-np.corrcoef(Z02,Z01)[0, 1]**2))\n",
    "print(\"pXZ02|Z01 is:\", pXZ02_Z01)\n",
    "\n",
    "pYZ02_Z01 = (np.corrcoef(Y,Z02)[0, 1] - np.corrcoef(Y,Z01)[0, 1] * np.corrcoef(Z02,Z01)[0, 1])/ \\\n",
    "      (np.sqrt(1-np.corrcoef(Y,Z01)[0, 1]**2)*np.sqrt(1-np.corrcoef(Z02,Z01)[0, 1]**2))\n",
    "print(\"pYZ02|Z01 is:\", pYZ02_Z01)\n",
    "\n",
    "pXY_Z01Z02 = (pXY_Z01 - pXZ02_Z01 * pYZ02_Z01 )/ np.sqrt(1-pXZ02_Z01**2)/ np.sqrt(1-pYZ02_Z01**2)\n",
    "print(\"pXY|Z01,Z02 is:\", pXY_Z01Z02)\n"
   ]
  },
  {
   "cell_type": "markdown",
   "metadata": {},
   "source": [
    "Conclusion: PC works for only linesr relationships"
   ]
  },
  {
   "cell_type": "code",
   "execution_count": 6,
   "metadata": {},
   "outputs": [],
   "source": [
    "np.save('corr_matrix_4_N=10000.npy',corr_matrix)"
   ]
  },
  {
   "cell_type": "code",
   "execution_count": 7,
   "metadata": {},
   "outputs": [
    {
     "name": "stdout",
     "output_type": "stream",
     "text": [
      "(1, 1)\n",
      "[[0.97789832 0.16798644]\n",
      " [0.16798644 0.99615434]]\n",
      "0.17244630756062415\n"
     ]
    }
   ],
   "source": [
    "M0 = np.array(corr_matrix[:2,:2])\n",
    "M1 = np.array([[corr_matrix[0, 2]],[corr_matrix[1, 2]]])\n",
    "M2 = np.array([[corr_matrix[2, 2]]])\n",
    "print(M2.shape)\n",
    "H = M0 - np.matmul(np.matmul(M1, inv(M2)), np.transpose(M1))\n",
    "print(H)\n",
    "print(H[0,1]/(H[0,0]*H[1,1]))\n",
    "    "
   ]
  },
  {
   "cell_type": "code",
   "execution_count": 8,
   "metadata": {},
   "outputs": [
    {
     "data": {
      "text/plain": [
       "array([[1.        , 0.17720575],\n",
       "       [0.17720575, 1.        ]])"
      ]
     },
     "execution_count": 8,
     "metadata": {},
     "output_type": "execute_result"
    }
   ],
   "source": [
    "np.array(corr_matrix[:2,:2])"
   ]
  },
  {
   "cell_type": "code",
   "execution_count": 9,
   "metadata": {},
   "outputs": [
    {
     "data": {
      "text/plain": [
       "array([[ 1.        ,  0.17720575,  0.14866633, -0.8594088 ],\n",
       "       [ 0.17720575,  1.        ,  0.06201341, -0.05918172],\n",
       "       [ 0.14866633,  0.06201341,  1.        , -0.1053584 ],\n",
       "       [-0.8594088 , -0.05918172, -0.1053584 ,  1.        ]])"
      ]
     },
     "execution_count": 9,
     "metadata": {},
     "output_type": "execute_result"
    }
   ],
   "source": [
    "corr_matrix"
   ]
  },
  {
   "cell_type": "code",
   "execution_count": 10,
   "metadata": {},
   "outputs": [
    {
     "data": {
      "text/plain": [
       "array([[1.]])"
      ]
     },
     "execution_count": 10,
     "metadata": {},
     "output_type": "execute_result"
    }
   ],
   "source": [
    "inv(corr_matrix[[[2]],[[2]]])"
   ]
  },
  {
   "cell_type": "markdown",
   "metadata": {},
   "source": [
    "# See if in linear/nonlinear relationship, X <-- Z-->Y, negative relationship matters"
   ]
  },
  {
   "cell_type": "code",
   "execution_count": 11,
   "metadata": {},
   "outputs": [
    {
     "data": {
      "text/plain": [
       "<matplotlib.image.AxesImage at 0x113cb3160>"
      ]
     },
     "execution_count": 11,
     "metadata": {},
     "output_type": "execute_result"
    },
    {
     "data": {
      "image/png": "[encoded data removed]",
      "text/plain": [
       "<Figure size 432x288 with 1 Axes>"
      ]
     },
     "metadata": {
      "needs_background": "light"
     },
     "output_type": "display_data"
    }
   ],
   "source": [
    "import matplotlib.pyplot as plt\n",
    "%matplotlib inline\n",
    "plt.imshow(corr_matrix) #, cmap='gray')\n"
   ]
  },
  {
   "cell_type": "code",
   "execution_count": 122,
   "metadata": {},
   "outputs": [
    {
     "data": {
      "text/plain": [
       "array([[ 1.        ,  0.15816799,  0.15431817, -0.85877318],\n",
       "       [ 0.15816799,  1.        ,  0.0684043 , -0.04940422],\n",
       "       [ 0.15431817,  0.0684043 ,  1.        , -0.11394644],\n",
       "       [-0.85877318, -0.04940422, -0.11394644,  1.        ]])"
      ]
     },
     "execution_count": 122,
     "metadata": {},
     "output_type": "execute_result"
    }
   ],
   "source": [
    "corr_matrix"
   ]
  },
  {
   "cell_type": "code",
   "execution_count": 105,
   "metadata": {},
   "outputs": [
    {
     "data": {
      "text/plain": [
       "array([[3],\n",
       "       [6]])"
      ]
     },
     "execution_count": 105,
     "metadata": {},
     "output_type": "execute_result"
    }
   ],
   "source": [
    "a = np.array([[1,2,3,4],[4,5,6,7],[7,8,9,10],[4,7,3,6]])\n",
    "a[[[0],[1]], [[2],[2]]]"
   ]
  },
  {
   "cell_type": "code",
   "execution_count": 103,
   "metadata": {},
   "outputs": [
    {
     "data": {
      "text/plain": [
       "array([[3, 4],\n",
       "       [6, 7]])"
      ]
     },
     "execution_count": 103,
     "metadata": {},
     "output_type": "execute_result"
    }
   ],
   "source": [
    "b = np.array[] "
   ]
  },
  {
   "cell_type": "code",
   "execution_count": null,
   "metadata": {},
   "outputs": [],
   "source": []
  }
 ],
 "metadata": {
  "kernelspec": {
   "display_name": "Python 3",
   "language": "python",
   "name": "python3"
  }
 },
 "nbformat": 4,
 "nbformat_minor": 2
}
